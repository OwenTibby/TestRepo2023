{
  "metadata": {
    "toc-autonumbering": false,
    "toc-showtags": false,
    "toc-showmarkdowntxt": true,
    "kernelspec": {
      "name": "python",
      "display_name": "Python (Pyodide)",
      "language": "python"
    },
    "language_info": {
      "codemirror_mode": {
        "name": "python",
        "version": 3
      },
      "file_extension": ".py",
      "mimetype": "text/x-python",
      "name": "python",
      "nbconvert_exporter": "python",
      "pygments_lexer": "ipython3",
      "version": "3.8"
    }
  },
  "nbformat_minor": 4,
  "nbformat": 4,
  "cells": [
    {
      "cell_type": "markdown",
      "source": "<center>\n    <img src=\"https://cf-courses-data.s3.us.cloud-object-storage.appdomain.cloud/IBMDeveloperSkillsNetwork-DS0105EN-SkillsNetwork/labs/Module2/images/SN_web_lightmode.png\" width=\"300\" alt=\"cognitiveclass.ai logo\"  />\n</center>\n",
      "metadata": {}
    },
    {
      "cell_type": "markdown",
      "source": "# My Jupyter Notebook on IBM Watson Studio",
      "metadata": {}
    },
    {
      "cell_type": "markdown",
      "source": "**Owen-Matthew Tibby**\nData Analyst",
      "metadata": {}
    },
    {
      "cell_type": "markdown",
      "source": "_\"I am passionate about data science because I possess a curious mind. I am intrigued by the auto industry and find myself desiring to combine my field experience with my analytical aptitude to accomplish more.\"_",
      "metadata": {}
    },
    {
      "cell_type": "markdown",
      "source": "### The Sum of 5 Elements:\n",
      "metadata": {}
    },
    {
      "cell_type": "code",
      "source": "#Sum of all elements\na= 1\nb=2\nc= 5\nd= 6\ne= 1\n\nf= a+b+c+d+e\nprint(f)\n",
      "metadata": {
        "trusted": true
      },
      "execution_count": 16,
      "outputs": [
        {
          "name": "stdout",
          "text": "15\n",
          "output_type": "stream"
        }
      ]
    },
    {
      "cell_type": "markdown",
      "source": "Next Up:\n1. Learn Python\n2. Practice Python\n\n\nPractice python here: https://www.w3schools.com/python/python_exercises.asp\n\n|Author |Date  |\n|-------|------|\n|O.Tibby|1-2023",
      "metadata": {}
    }
  ]
}
